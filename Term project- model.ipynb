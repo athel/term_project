{
 "cells": [
  {
   "cell_type": "markdown",
   "metadata": {},
   "source": [
    "# Term Project - building a model"
   ]
  },
  {
   "cell_type": "code",
   "execution_count": 1,
   "metadata": {},
   "outputs": [],
   "source": [
    "%store -r x\n",
    "%store -r x2\n",
    "%store -r y\n",
    "%store -r y2\n",
    "%store -r y_cat\n",
    "%store -r y2_cat\n",
    "%store -r x_month\n",
    "%store -r x2_month\n"
   ]
  },
  {
   "cell_type": "code",
   "execution_count": 2,
   "metadata": {},
   "outputs": [],
   "source": [
    "# For data manipulation\n",
    "import pandas as pd\n",
    "import numpy as np\n",
    "# To plot pretty figures\n",
    "%matplotlib inline\n",
    "import matplotlib as mpl\n",
    "import matplotlib.pyplot as plt\n",
    "\n"
   ]
  },
  {
   "cell_type": "code",
   "execution_count": 3,
   "metadata": {},
   "outputs": [
    {
     "name": "stdout",
     "output_type": "stream",
     "text": [
      "(2262, 503)\n",
      "(2262, 24)\n",
      "(2262,)\n",
      "(2262,)\n"
     ]
    }
   ],
   "source": [
    "print(x2.shape)\n",
    "print(x2_month.shape)\n",
    "print(y2.shape)\n",
    "print(y2_cat.shape)"
   ]
  },
  {
   "cell_type": "code",
   "execution_count": 4,
   "metadata": {},
   "outputs": [
    {
     "name": "stderr",
     "output_type": "stream",
     "text": [
      "C:\\Users\\Studio\\Anaconda3\\lib\\site-packages\\sklearn\\externals\\six.py:31: DeprecationWarning: The module is deprecated in version 0.21 and will be removed in version 0.23 since we've dropped support for Python 2.7. Please rely on the official version of six (https://pypi.org/project/six/).\n",
      "  \"(https://pypi.org/project/six/).\", DeprecationWarning)\n"
     ]
    }
   ],
   "source": [
    "from sklearn.linear_model import LogisticRegression, SGDClassifier\n",
    "from sklearn.ensemble import GradientBoostingClassifier, RandomForestClassifier, VotingClassifier\n",
    "from sklearn.neighbors import KNeighborsClassifier\n",
    "from sklearn.svm import SVC\n",
    "from sklearn.model_selection import train_test_split\n",
    "from sklearn.metrics import roc_auc_score\n",
    "from sklearn.model_selection import GridSearchCV\n",
    "from sklearn.pipeline import Pipeline\n",
    "from sklearn.decomposition import PCA\n",
    "from sklearn import metrics\n",
    "from sklearn.preprocessing import RobustScaler\n",
    "from imblearn.over_sampling import SMOTE\n",
    "import sklearn.metrics as skme\n",
    "\n",
    "\n",
    "#split the data by train and test set.\n",
    "\n",
    "x_train, x_test, y_train, y_test = train_test_split(x_month,y_cat, test_size = 0.3)"
   ]
  },
  {
   "cell_type": "code",
   "execution_count": 5,
   "metadata": {},
   "outputs": [],
   "source": [
    "import sklearn.metrics as skme\n",
    "\n",
    "\"\"\"Showing result by comparing predicted result and actual result.\n",
    "Parameters:\n",
    "    y_act (Series): actual result \n",
    "    y_pred (ndarray): predicted result\n",
    "Returns: \n",
    "    None\n",
    "\"\"\"\n",
    "def show_result(y_act, y_pred):\n",
    "    cm = skme.confusion_matrix(y_act, y_pred)\n",
    "    print(\"The confusion matrix is as following\")\n",
    "    print(cm)\n",
    "    plt.matshow(cm, cmap='tab20c')\n",
    "    plt.title('Confusion matrix')\n",
    "    plt.colorbar()\n",
    "    plt.ylabel('True label')\n",
    "    plt.xlabel('Predicted label')\n",
    "    plt.show()\n",
    "    acc = skme.accuracy_score(y_act, y_pred)\n",
    "    print(\"This model's accuracy score is {:.4f}.\".format(acc))\n",
    "    auc = skme.roc_auc_score(y_act, y_pred)\n",
    "    print(\"This model's ROC_AUC score is {:.4f}.\".format(auc))\n",
    "    pre = skme.precision_score(y_act, y_pred)\n",
    "    print(\"This model's precision score is {:.4f}.\".format(pre))\n",
    "    #how many 1's are correctly identified.\n",
    "    recall = skme.recall_score(y_act, y_pred)\n",
    "    print(\"This model's recall score is {:.4f}.\".format(recall))\n",
    "    f1 = skme.f1_score(y_act, y_pred)\n",
    "    print(\"This model's f1 score is {:.4f}.\".format(f1))\n",
    "    print(\"Here is the classification report summary:\")\n",
    "    print(skme.classification_report(y_act, y_pred))\n",
    "    return None"
   ]
  },
  {
   "cell_type": "code",
   "execution_count": 6,
   "metadata": {},
   "outputs": [],
   "source": [
    "\"\"\"Training data using PCA and classifier given\n",
    "Parameters:\n",
    "    x (Dataframe): x data\n",
    "    y (Series): y data\n",
    "    clf (List): a classifier, i.e. first component is str, second is a model, ['estimator',transformer()]\n",
    "    clf_para (dictionary): a dictionary contains parameters for the classifier\n",
    "Returns: \n",
    "    GridSearchCV: have same attributes like .best_score_\n",
    "\"\"\"\n",
    "def train_data(x, y, clf, clf_para):\n",
    "    \n",
    "    #define the feature reduction parameters\n",
    "    \n",
    "    N_COMPONENTS_OP = [5,7,9,13,15, 18]\n",
    "\n",
    "    \n",
    "    pipe = Pipeline([\n",
    "            ('scaler', RobustScaler()),\n",
    "            ('reduce_dim', PCA(svd_solver=\"randomized\"))\n",
    "    ])\n",
    "    if clf is not None:\n",
    "        pipe.steps.insert(2, clf)\n",
    "        \n",
    "    \n",
    "    param_grid = {\n",
    "        'reduce_dim__n_components': N_COMPONENTS_OP\n",
    "   }\n",
    "    \n",
    "    if clf_para is not None:\n",
    "        param_grid.update(clf_para)\n",
    "\n",
    "\n",
    "    grid = GridSearchCV(pipe, cv=4, n_jobs=-1, param_grid=param_grid,\n",
    "                        scoring='balanced_accuracy',verbose=3, error_score='raise')  #sorted(metrics.SCORERS.keys())\n",
    "    grid.fit(x, y)\n",
    "\n",
    "    return grid"
   ]
  },
  {
   "cell_type": "markdown",
   "metadata": {},
   "source": [
    "## Create other classifiers"
   ]
  },
  {
   "cell_type": "code",
   "execution_count": 7,
   "metadata": {},
   "outputs": [],
   "source": [
    "SGD = ['sgd', SGDClassifier(tol=1e-3,early_stopping=True)]\n",
    "ASGD = ['asgd',SGDClassifier(average=True, max_iter=1000, tol=1e-3)]\n",
    "LBFGS = ['lbfgs',LogisticRegression(solver='lbfgs', tol=1e-1)]\n",
    "RF = ['rf', RandomForestClassifier(criterion=\"gini\")]\n",
    "KN = ['kn', KNeighborsClassifier(algorithm='ball_tree')]\n",
    "GBC = ['gb', GradientBoostingClassifier()]\n",
    "SVM_CLF=[\"svc\", SVC(kernel=\"poly\",gamma='scale')]  #based on past result SVC is a really back classifier, removed from model\n",
    "\n",
    "SGD_PARA = {\n",
    "    \"\".join([SGD[0], \"__\", \"max_iter\"]): [100, 1000, 2000],\n",
    "    \"\".join([SGD[0], \"__\", \"learning_rate\"]): [\"optimal\", \"adaptive\"],\n",
    "    \"\".join([SGD[0], \"__\", \"eta0\"]): [0.02,0.1,0.5]\n",
    "}\n",
    "ASGD_PARA = {\n",
    "    \"\".join([ASGD[0], \"__\", \"max_iter\"]): [200, 1000, 2000],\n",
    "    \"\".join([ASGD[0], \"__\", \"learning_rate\"]): [\"optimal\", \"adaptive\"],\n",
    "    \"\".join([ASGD[0], \"__\", \"eta0\"]): [0.02,0.1,0.5]\n",
    "}\n",
    "LBFGS_PARA = {\n",
    "    \"\".join([LBFGS[0], \"__\", \"max_iter\"]): [200, 500,1000],\n",
    "\n",
    "    \"\".join([LBFGS[0], \"__\", \"C\"]): np.logspace(-2, 4, 10)\n",
    "}\n",
    "SVM_PARA = {\n",
    "    \"\".join([SVM_CLF[0], \"__\", \"degree\"]): [2, 5, 8, 11],\n",
    "    \"\".join([SVM_CLF[0], \"__\", \"C\"]): np.logspace(-2, 2, 10)\n",
    "}\n",
    "\n",
    "RF_PARA = {\n",
    "    \"\".join([RF[0], \"__\", \"n_estimators\"]): [60, 70, 100],\n",
    "    \"\".join([RF[0], \"__\", \"max_features\"]): [0.1, 0.05, 0.15],\n",
    "}\n",
    "KN_PARA = {\n",
    "    \"\".join([KN[0], \"__\", \"n_neighbors\"]): [5,7,9,11,15],\n",
    "    \"\".join([KN[0], \"__\", \"weights\"]): [\"uniform\", \"distance\"], \n",
    "    \"\".join([KN[0], \"__\", \"leaf_size\"]): [10, 20, 30]\n",
    "}\n",
    "\n",
    "GBC_PARA = {\n",
    "    \"\".join([GBC[0], \"__\", \"n_estimators\"]): [30,50, 70],\n",
    "    \"\".join([GBC[0], \"__\", \"learning_rate\"]): np.logspace(-1, 0,5),\n",
    "    \"\".join([GBC[0], \"__\", \"max_features\"]): [0.05, 0.15, 0.20],\n",
    "    \"\".join([GBC[0], \"__\", \"max_depth\"]): [3,5,7],\n",
    "}\n",
    "\n",
    "#list all the parameters for the classifier defined. \n",
    "para_grid = [SGD_PARA, ASGD_PARA,LBFGS_PARA, RF_PARA, KN_PARA,\n",
    "            # SVM_PARA,\n",
    "             GBC_PARA]\n",
    "\n",
    "classifiers = [\n",
    "    (SGD[0],SGD[1]),\n",
    "    (ASGD[0], ASGD[1]),\n",
    "    (LBFGS[0],LBFGS[1]),\n",
    "    (RF[0], RF[1]),\n",
    "    (KN[0], KN[1]),\n",
    "    #(SVM_CLF[0], SVM_CLF[1]),\n",
    "    (GBC[0], GBC[1]) \n",
    "]\n",
    "import heapq\n",
    "\n",
    "\n",
    "\"\"\"Traing the feeded data by using the classifier and parameter provided. Feed to the given function provided. in this case\n",
    "the train_data function to train the model. Find the top three model trained. Then feed the top three model to a voting classifier\n",
    "to do a round2 train. \n",
    "imbalanced data are balanced by using SMOTE. \n",
    "Parameters:\n",
    "    x (DataFrame): independent variable\n",
    "    y (Series): dependent variable\n",
    "    classifiers (List): list of classifiers with the name and classifier object as each elements. \n",
    "    class_params (List): list of dictionary, each dictionary contains parameters to be turned by a pipeline for that \n",
    "            classifier contained in the classifiers parameter.\n",
    "    func: func used to train each classifier. see train_data()\n",
    "Returns: \n",
    "    VotingClassifier: voting classifier used by the method to train the data. \n",
    "\"\"\"\n",
    "\n",
    "def train_all_model(x,y, classifiers, class_params, func):\n",
    "    x_res, y_res = SMOTE(ratio=1.0).fit_sample(x,y)\n",
    "    result_grids = []\n",
    "    for i in range(len(classifiers)):\n",
    "        grid = func(x_res,y_res,classifiers[i], class_params[i])  #using the train_data function to train each classifier\n",
    "        result_grids.insert(i, grid)\n",
    "        print(\">>>>>>>>>>>>>>>>>>>>>>>>>>>>>>>>>>>>>>>>>>>>>>>>>>>>>>>>>>>>>>>>>>>>>>>>>>>>>>>>\")\n",
    "        print(\"training for\", classifiers[i][0],\" is complete\")\n",
    "        print(\"best result is\", grid.best_score_)\n",
    "        print(\">>>>>>>>>>>>>>>>>>>>>>>>>>>>>>>>>>>>>>>>>>>>>>>>>>>>>>>>>>>>>>>>>>>>>>>>>>>>>>>>\")\n",
    "    best = heapq.nlargest(3, result_grids, key = lambda s: s.best_score_)\n",
    "    \n",
    "    \n",
    "    round2 = VotingClassifier(estimators=[\n",
    "        ('1st', best[0].best_estimator_), \n",
    "        ('2nd', best[1].best_estimator_), \n",
    "        ('3rd', best[2].best_estimator_)],\n",
    "        voting='soft')\n",
    "    round2 = round2.fit(x_res, y_res)\n",
    "    y_pred = round2.predict(x_res)\n",
    "    \n",
    "    show_result(y_res, y_pred)\n",
    "    return round2\n",
    "    "
   ]
  },
  {
   "cell_type": "code",
   "execution_count": 8,
   "metadata": {},
   "outputs": [
    {
     "name": "stdout",
     "output_type": "stream",
     "text": [
      "Fitting 4 folds for each of 108 candidates, totalling 432 fits\n"
     ]
    },
    {
     "name": "stderr",
     "output_type": "stream",
     "text": [
      "[Parallel(n_jobs=-1)]: Using backend LokyBackend with 12 concurrent workers.\n",
      "[Parallel(n_jobs=-1)]: Done   8 tasks      | elapsed:    3.4s\n",
      "[Parallel(n_jobs=-1)]: Done 136 tasks      | elapsed:    4.5s\n",
      "[Parallel(n_jobs=-1)]: Done 432 out of 432 | elapsed:    7.1s finished\n",
      "[Parallel(n_jobs=-1)]: Using backend LokyBackend with 12 concurrent workers.\n"
     ]
    },
    {
     "name": "stdout",
     "output_type": "stream",
     "text": [
      ">>>>>>>>>>>>>>>>>>>>>>>>>>>>>>>>>>>>>>>>>>>>>>>>>>>>>>>>>>>>>>>>>>>>>>>>>>>>>>>>\n",
      "training for sgd  is complete\n",
      "best result is 0.5436941410129096\n",
      ">>>>>>>>>>>>>>>>>>>>>>>>>>>>>>>>>>>>>>>>>>>>>>>>>>>>>>>>>>>>>>>>>>>>>>>>>>>>>>>>\n",
      "Fitting 4 folds for each of 108 candidates, totalling 432 fits\n"
     ]
    },
    {
     "name": "stderr",
     "output_type": "stream",
     "text": [
      "[Parallel(n_jobs=-1)]: Done   8 tasks      | elapsed:    0.1s\n",
      "[Parallel(n_jobs=-1)]: Done 432 out of 432 | elapsed:    2.4s finished\n",
      "[Parallel(n_jobs=-1)]: Using backend LokyBackend with 12 concurrent workers.\n"
     ]
    },
    {
     "name": "stdout",
     "output_type": "stream",
     "text": [
      ">>>>>>>>>>>>>>>>>>>>>>>>>>>>>>>>>>>>>>>>>>>>>>>>>>>>>>>>>>>>>>>>>>>>>>>>>>>>>>>>\n",
      "training for asgd  is complete\n",
      "best result is 0.5089374379344588\n",
      ">>>>>>>>>>>>>>>>>>>>>>>>>>>>>>>>>>>>>>>>>>>>>>>>>>>>>>>>>>>>>>>>>>>>>>>>>>>>>>>>\n",
      "Fitting 4 folds for each of 180 candidates, totalling 720 fits\n"
     ]
    },
    {
     "name": "stderr",
     "output_type": "stream",
     "text": [
      "[Parallel(n_jobs=-1)]: Done   8 tasks      | elapsed:    0.1s\n",
      "[Parallel(n_jobs=-1)]: Done 184 tasks      | elapsed:    2.6s\n",
      "[Parallel(n_jobs=-1)]: Done 504 tasks      | elapsed:    7.7s\n",
      "[Parallel(n_jobs=-1)]: Done 720 out of 720 | elapsed:   11.1s finished\n",
      "[Parallel(n_jobs=-1)]: Using backend LokyBackend with 12 concurrent workers.\n"
     ]
    },
    {
     "name": "stdout",
     "output_type": "stream",
     "text": [
      ">>>>>>>>>>>>>>>>>>>>>>>>>>>>>>>>>>>>>>>>>>>>>>>>>>>>>>>>>>>>>>>>>>>>>>>>>>>>>>>>\n",
      "training for lbfgs  is complete\n",
      "best result is 0.5963257199602781\n",
      ">>>>>>>>>>>>>>>>>>>>>>>>>>>>>>>>>>>>>>>>>>>>>>>>>>>>>>>>>>>>>>>>>>>>>>>>>>>>>>>>\n",
      "Fitting 4 folds for each of 54 candidates, totalling 216 fits\n"
     ]
    },
    {
     "name": "stderr",
     "output_type": "stream",
     "text": [
      "[Parallel(n_jobs=-1)]: Done   8 tasks      | elapsed:    0.3s\n",
      "[Parallel(n_jobs=-1)]: Done 104 tasks      | elapsed:    5.0s\n",
      "[Parallel(n_jobs=-1)]: Done 216 out of 216 | elapsed:   11.8s finished\n"
     ]
    },
    {
     "name": "stdout",
     "output_type": "stream",
     "text": [
      ">>>>>>>>>>>>>>>>>>>>>>>>>>>>>>>>>>>>>>>>>>>>>>>>>>>>>>>>>>>>>>>>>>>>>>>>>>>>>>>>\n",
      "training for rf  is complete\n",
      "best result is 0.8167825223435948\n",
      ">>>>>>>>>>>>>>>>>>>>>>>>>>>>>>>>>>>>>>>>>>>>>>>>>>>>>>>>>>>>>>>>>>>>>>>>>>>>>>>>\n",
      "Fitting 4 folds for each of 180 candidates, totalling 720 fits\n"
     ]
    },
    {
     "name": "stderr",
     "output_type": "stream",
     "text": [
      "[Parallel(n_jobs=-1)]: Using backend LokyBackend with 12 concurrent workers.\n",
      "[Parallel(n_jobs=-1)]: Done   8 tasks      | elapsed:    0.1s\n",
      "[Parallel(n_jobs=-1)]: Done 184 tasks      | elapsed:    1.5s\n",
      "[Parallel(n_jobs=-1)]: Done 504 tasks      | elapsed:    3.8s\n",
      "[Parallel(n_jobs=-1)]: Done 720 out of 720 | elapsed:    5.4s finished\n",
      "[Parallel(n_jobs=-1)]: Using backend LokyBackend with 12 concurrent workers.\n"
     ]
    },
    {
     "name": "stdout",
     "output_type": "stream",
     "text": [
      ">>>>>>>>>>>>>>>>>>>>>>>>>>>>>>>>>>>>>>>>>>>>>>>>>>>>>>>>>>>>>>>>>>>>>>>>>>>>>>>>\n",
      "training for kn  is complete\n",
      "best result is 0.7442899702085403\n",
      ">>>>>>>>>>>>>>>>>>>>>>>>>>>>>>>>>>>>>>>>>>>>>>>>>>>>>>>>>>>>>>>>>>>>>>>>>>>>>>>>\n",
      "Fitting 4 folds for each of 810 candidates, totalling 3240 fits\n"
     ]
    },
    {
     "name": "stderr",
     "output_type": "stream",
     "text": [
      "[Parallel(n_jobs=-1)]: Done   8 tasks      | elapsed:    0.1s\n",
      "[Parallel(n_jobs=-1)]: Done 184 tasks      | elapsed:    2.5s\n",
      "[Parallel(n_jobs=-1)]: Done 504 tasks      | elapsed:   11.8s\n",
      "[Parallel(n_jobs=-1)]: Done 736 tasks      | elapsed:   20.8s\n",
      "[Parallel(n_jobs=-1)]: Done 1024 tasks      | elapsed:   27.2s\n",
      "[Parallel(n_jobs=-1)]: Done 1376 tasks      | elapsed:   41.1s\n",
      "[Parallel(n_jobs=-1)]: Done 1792 tasks      | elapsed:   51.3s\n",
      "[Parallel(n_jobs=-1)]: Done 2272 tasks      | elapsed:  1.1min\n",
      "[Parallel(n_jobs=-1)]: Done 2816 tasks      | elapsed:  1.3min\n",
      "[Parallel(n_jobs=-1)]: Done 3240 out of 3240 | elapsed:  1.6min finished\n"
     ]
    },
    {
     "name": "stdout",
     "output_type": "stream",
     "text": [
      ">>>>>>>>>>>>>>>>>>>>>>>>>>>>>>>>>>>>>>>>>>>>>>>>>>>>>>>>>>>>>>>>>>>>>>>>>>>>>>>>\n",
      "training for gb  is complete\n",
      "best result is 0.8157894736842105\n",
      ">>>>>>>>>>>>>>>>>>>>>>>>>>>>>>>>>>>>>>>>>>>>>>>>>>>>>>>>>>>>>>>>>>>>>>>>>>>>>>>>\n",
      "The confusion matrix is as following\n",
      "[[1007    0]\n",
      " [   0 1007]]\n"
     ]
    },
    {
     "data": {
      "image/png": "[encoded data removed]",
      "text/plain": [
       "<Figure size 288x288 with 2 Axes>"
      ]
     },
     "metadata": {
      "needs_background": "light"
     },
     "output_type": "display_data"
    },
    {
     "name": "stdout",
     "output_type": "stream",
     "text": [
      "This model's accuracy score is 1.0000.\n",
      "This model's ROC_AUC score is 1.0000.\n",
      "This model's precision score is 1.0000.\n",
      "This model's recall score is 1.0000.\n",
      "This model's f1 score is 1.0000.\n",
      "Here is the classification report summary:\n",
      "              precision    recall  f1-score   support\n",
      "\n",
      "           0       1.00      1.00      1.00      1007\n",
      "           1       1.00      1.00      1.00      1007\n",
      "\n",
      "    accuracy                           1.00      2014\n",
      "   macro avg       1.00      1.00      1.00      2014\n",
      "weighted avg       1.00      1.00      1.00      2014\n",
      "\n"
     ]
    }
   ],
   "source": [
    "#train all the model.\n",
    "best = train_all_model(x_train,y_train, classifiers, para_grid,train_data)"
   ]
  },
  {
   "cell_type": "code",
   "execution_count": 9,
   "metadata": {},
   "outputs": [
    {
     "name": "stdout",
     "output_type": "stream",
     "text": [
      "VotingClassifier(estimators=[('1st',\n",
      "                              Pipeline(memory=None,\n",
      "                                       steps=[('scaler',\n",
      "                                               RobustScaler(copy=True,\n",
      "                                                            quantile_range=(25.0,\n",
      "                                                                            75.0),\n",
      "                                                            with_centering=True,\n",
      "                                                            with_scaling=True)),\n",
      "                                              ('reduce_dim',\n",
      "                                               PCA(copy=True,\n",
      "                                                   iterated_power='auto',\n",
      "                                                   n_components=18,\n",
      "                                                   random_state=None,\n",
      "                                                   svd_solver='randomized',\n",
      "                                                   tol=0.0, whiten=False)),\n",
      "                                              ('rf',\n",
      "                                               RandomForestClassifier(bootstrap=True,\n",
      "                                                                      class_weigh...\n",
      "                                              ('reduce_dim',\n",
      "                                               PCA(copy=True,\n",
      "                                                   iterated_power='auto',\n",
      "                                                   n_components=9,\n",
      "                                                   random_state=None,\n",
      "                                                   svd_solver='randomized',\n",
      "                                                   tol=0.0, whiten=False)),\n",
      "                                              ('kn',\n",
      "                                               KNeighborsClassifier(algorithm='ball_tree',\n",
      "                                                                    leaf_size=10,\n",
      "                                                                    metric='minkowski',\n",
      "                                                                    metric_params=None,\n",
      "                                                                    n_jobs=None,\n",
      "                                                                    n_neighbors=5,\n",
      "                                                                    p=2,\n",
      "                                                                    weights='distance'))],\n",
      "                                       verbose=False))],\n",
      "                 flatten_transform=True, n_jobs=None, voting='soft',\n",
      "                 weights=None)\n"
     ]
    }
   ],
   "source": [
    "print(best)"
   ]
  },
  {
   "cell_type": "markdown",
   "metadata": {},
   "source": [
    "# Production result"
   ]
  },
  {
   "cell_type": "code",
   "execution_count": 10,
   "metadata": {},
   "outputs": [],
   "source": [
    "\"\"\"Given the estimator, try to predict the result and show the result. \n",
    "Parameters:\n",
    "    x_test (DataFrame): test dataset\n",
    "    y_test (Series): test target\n",
    "    best: the vote classifier used to train the model. \n",
    "Returns: \n",
    "    y_pred: predicted result.\n",
    "    pred_prob: predicted probability for each target classes. \n",
    "\"\"\"\n",
    "\n",
    "def test_result(best, x_test, y_test):\n",
    "    y_pred = best.predict(RobustScaler().fit_transform(x_test))\n",
    "    pred_prob = best.predict_proba(RobustScaler().fit_transform(x_test))\n",
    "    show_result(y_test,y_pred)\n",
    "    return y_pred, pred_prob"
   ]
  },
  {
   "cell_type": "code",
   "execution_count": 16,
   "metadata": {},
   "outputs": [
    {
     "name": "stdout",
     "output_type": "stream",
     "text": [
      "The confusion matrix is as following\n",
      "[[404  27]\n",
      " [139   6]]\n"
     ]
    },
    {
     "data": {
      "image/png": "[encoded data removed]",
      "text/plain": [
       "<Figure size 288x288 with 2 Axes>"
      ]
     },
     "metadata": {
      "needs_background": "light"
     },
     "output_type": "display_data"
    },
    {
     "name": "stdout",
     "output_type": "stream",
     "text": [
      "This model's accuracy score is 0.7118.\n",
      "This model's ROC_AUC score is 0.4894.\n",
      "This model's precision score is 0.1818.\n",
      "This model's recall score is 0.0414.\n",
      "This model's f1 score is 0.0674.\n",
      "Here is the classification report summary:\n",
      "              precision    recall  f1-score   support\n",
      "\n",
      "           0       0.74      0.94      0.83       431\n",
      "           1       0.18      0.04      0.07       145\n",
      "\n",
      "    accuracy                           0.71       576\n",
      "   macro avg       0.46      0.49      0.45       576\n",
      "weighted avg       0.60      0.71      0.64       576\n",
      "\n"
     ]
    }
   ],
   "source": [
    "result1, result1_prob = test_result(best,x_test,y_test)"
   ]
  },
  {
   "cell_type": "code",
   "execution_count": 12,
   "metadata": {},
   "outputs": [
    {
     "name": "stdout",
     "output_type": "stream",
     "text": [
      "The confusion matrix is as following\n",
      "[[1615   81]\n",
      " [ 530   36]]\n"
     ]
    },
    {
     "data": {
      "image/png": "[encoded data removed]",
      "text/plain": [
       "<Figure size 288x288 with 2 Axes>"
      ]
     },
     "metadata": {
      "needs_background": "light"
     },
     "output_type": "display_data"
    },
    {
     "name": "stdout",
     "output_type": "stream",
     "text": [
      "This model's accuracy score is 0.7299.\n",
      "This model's ROC_AUC score is 0.5079.\n",
      "This model's precision score is 0.3077.\n",
      "This model's recall score is 0.0636.\n",
      "This model's f1 score is 0.1054.\n",
      "Here is the classification report summary:\n",
      "              precision    recall  f1-score   support\n",
      "\n",
      "           0       0.75      0.95      0.84      1696\n",
      "           1       0.31      0.06      0.11       566\n",
      "\n",
      "    accuracy                           0.73      2262\n",
      "   macro avg       0.53      0.51      0.47      2262\n",
      "weighted avg       0.64      0.73      0.66      2262\n",
      "\n"
     ]
    }
   ],
   "source": [
    "result2, result2_prob = test_result(best, x2_month,y2_cat)"
   ]
  },
  {
   "cell_type": "code",
   "execution_count": 17,
   "metadata": {},
   "outputs": [],
   "source": [
    "import random\n",
    "\n",
    "\"\"\"Load the specific stock data by year by given stock ticker. \n",
    "Parameters:\n",
    "    path (str): the folder where data were stored. i.e. \"p_data/\"\n",
    "    names(List): List of stock ticker\n",
    "    year(str): year in string. \n",
    "Returns: \n",
    "    data(DataFrame): dataframe contains the stock data for the year.  \n",
    "\"\"\"\n",
    "\n",
    "def load_by_names(path, names, year):\n",
    "    data = pd.DataFrame(data={})\n",
    "    for i in names:\n",
    "        temp = pd.read_csv(path + i + \".csv\" , encoding='utf-8')\n",
    "        temp = temp.set_index('date')\n",
    "        \n",
    "        # select the close price for the year, for example. \n",
    "        # chose split adjusted price.\n",
    "        temp = pd.DataFrame(temp.filter(like=year, axis=0).loc[:,'5. adjusted close'])\n",
    "        old_r_name=temp.columns[0]\n",
    "        temp = temp.T.rename(index={old_r_name: i})\n",
    "        data = data.append(temp, sort = True)\n",
    "    return data\n",
    "\n",
    "\"\"\"Load the specific stock data by year by given stock ticker. \n",
    "Parameters:\n",
    "    path (str): the folder where data were stored. i.e. \"p_data/\"\n",
    "    names(List): List of stock ticker\n",
    "    year(str): year in string. \n",
    "Returns: \n",
    "    data(DataFrame): dataframe contains the stock data for the year.  \n",
    "\"\"\"\n",
    "def estimate_return(act_y, pred_y, x,year, folder,pred_prob):\n",
    "    #find top 10 most probable result for y = 1\n",
    "    top10_percent = sorted(act_y[pred_prob[:,1] > 0.8], reverse = True)\n",
    "    count = len(top10_percent)\n",
    "    \n",
    "    if count > 5:\n",
    "        random_five = random.sample(range(1, count), 5)\n",
    "        top5 = np.take(top10_percent, random_five)\n",
    "        choices = 5\n",
    "    else:\n",
    "        top5 = top10_percent\n",
    "        choices = count\n",
    "    \n",
    "    print(\"the average return based on top 10% of estimate is \", np.array(top5).mean())\n",
    "    print(top5)\n",
    "    index = x[act_y.isin(top5)].index\n",
    "    selected = load_by_names(folder, index, year)\n",
    "    for i in range(choices):\n",
    "        selected.iloc[i].plot(legend=True)\n",
    "        plt.show()\n",
    "    print(selected.index)\n",
    "    "
   ]
  },
  {
   "cell_type": "code",
   "execution_count": 18,
   "metadata": {},
   "outputs": [
    {
     "data": {
      "text/plain": [
       "(2262,)"
      ]
     },
     "execution_count": 18,
     "metadata": {},
     "output_type": "execute_result"
    }
   ],
   "source": [
    "y_pred = best.predict(RobustScaler().fit_transform(x2_month))\n",
    "y_pred.shape"
   ]
  },
  {
   "cell_type": "code",
   "execution_count": 19,
   "metadata": {},
   "outputs": [
    {
     "name": "stdout",
     "output_type": "stream",
     "text": [
      "the average return based on top 10% of estimate is  0.516345634757716\n",
      "[0.7030800311806292, 0.6635189418615073, 0.6302904153037963, 0.06849315068493152]\n"
     ]
    },
    {
     "data": {
      "image/png": "[encoded data removed]",
      "text/plain": [
       "<Figure size 432x288 with 1 Axes>"
      ]
     },
     "metadata": {
      "needs_background": "light"
     },
     "output_type": "display_data"
    },
    {
     "data": {
      "image/png": "[encoded data removed]",
      "text/plain": [
       "<Figure size 432x288 with 1 Axes>"
      ]
     },
     "metadata": {
      "needs_background": "light"
     },
     "output_type": "display_data"
    },
    {
     "data": {
      "image/png": "[encoded data removed]",
      "text/plain": [
       "<Figure size 432x288 with 1 Axes>"
      ]
     },
     "metadata": {
      "needs_background": "light"
     },
     "output_type": "display_data"
    },
    {
     "data": {
      "image/png": "[encoded data removed]",
      "text/plain": [
       "<Figure size 432x288 with 1 Axes>"
      ]
     },
     "metadata": {
      "needs_background": "light"
     },
     "output_type": "display_data"
    },
    {
     "name": "stdout",
     "output_type": "stream",
     "text": [
      "Index(['ALGT', 'CLDX', 'INCY', 'VRTS'], dtype='object')\n"
     ]
    }
   ],
   "source": [
    "estimate_return(y2, result2, x2, \"2018\", \"p_data/\", result2_prob)"
   ]
  },
  {
   "cell_type": "code",
   "execution_count": 20,
   "metadata": {},
   "outputs": [
    {
     "name": "stdout",
     "output_type": "stream",
     "text": [
      "the average return based on top 10% of estimate is  1.82708026603036\n",
      "[1.82708026603036]\n"
     ]
    },
    {
     "name": "stderr",
     "output_type": "stream",
     "text": [
      "C:\\Users\\Studio\\Anaconda3\\lib\\site-packages\\ipykernel_launcher.py:49: UserWarning: Boolean Series key will be reindexed to match DataFrame index.\n"
     ]
    },
    {
     "data": {
      "image/png": "[encoded data removed]",
      "text/plain": [
       "<Figure size 432x288 with 1 Axes>"
      ]
     },
     "metadata": {
      "needs_background": "light"
     },
     "output_type": "display_data"
    },
    {
     "name": "stdout",
     "output_type": "stream",
     "text": [
      "Index(['OBCI'], dtype='object')\n"
     ]
    }
   ],
   "source": [
    "estimate_return(y[y.index.isin(y_test.index)], result1, x_test, \"2016\", \"p_data/\",result1_prob)"
   ]
  },
  {
   "cell_type": "code",
   "execution_count": null,
   "metadata": {},
   "outputs": [],
   "source": []
  }
 ],
 "metadata": {
  "kernelspec": {
   "display_name": "Python 3",
   "language": "python",
   "name": "python3"
  },
  "language_info": {
   "codemirror_mode": {
    "name": "ipython",
    "version": 3
   },
   "file_extension": ".py",
   "mimetype": "text/x-python",
   "name": "python",
   "nbconvert_exporter": "python",
   "pygments_lexer": "ipython3",
   "version": "3.7.2"
  }
 },
 "nbformat": 4,
 "nbformat_minor": 2
}
